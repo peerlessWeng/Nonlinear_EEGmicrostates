{
 "cells": [
  {
   "cell_type": "code",
   "execution_count": 11,
   "id": "bfee2f32-8254-457b-9239-643fd8c35921",
   "metadata": {},
   "outputs": [],
   "source": [
    "import os\n",
    "import pandas as pd\n",
    "from lempel_ziv_complexity import lempel_ziv_complexity"
   ]
  },
  {
   "cell_type": "code",
   "execution_count": 12,
   "id": "2e255532-1f5e-4d5e-a988-7d8f38774d7d",
   "metadata": {},
   "outputs": [],
   "source": [
    "# 设置文件路径\n",
    "#data_path = r'F:\\EEGmicrostate\\microstate_2_20\\groupMicrostate\\EO\\MicorstateSeuqnce2group\\all\\2group\\HC\\discrete'\n",
    "data_path = r'F:\\EEGmicrostate\\microstate_2_20\\groupMicrostate\\EO\\MicorstateSeuqnce2group\\all\\discrete'"
   ]
  },
  {
   "cell_type": "code",
   "execution_count": 13,
   "id": "cec6cedc-c480-41b9-8dd7-3aa296a1b90e",
   "metadata": {},
   "outputs": [],
   "source": [
    "# 初始化结果存储\n",
    "results = []"
   ]
  },
  {
   "cell_type": "code",
   "execution_count": 14,
   "id": "f39bf449-7a33-4a2f-9125-bc3a5db27d84",
   "metadata": {},
   "outputs": [],
   "source": [
    "# 遍历文件夹中的每个txt文件\n",
    "for filename in os.listdir(data_path):\n",
    "    if filename.endswith('.txt'):\n",
    "        # 读取微状态序列\n",
    "        file_path = os.path.join(data_path, filename)\n",
    "        with open(file_path, 'r') as file:\n",
    "            microstate_sequence = [int(line.strip()) for line in file]  # 假设每一行是一个微状态标签\n",
    "            \n",
    "        # 只保留前1000个微状态\n",
    "        microstate_sequence = microstate_sequence[:1976]\n",
    "        \n",
    "        # 将列表转换为元组\n",
    "        microstate_tuple = tuple(microstate_sequence)\n",
    "        \n",
    "        # 计算Lempel-Ziv复杂度\n",
    "        lzc = lempel_ziv_complexity(microstate_tuple)\n",
    "        \n",
    "        # 将结果存储在列表中\n",
    "        results.append({'File Name': filename, 'LZC': lzc})"
   ]
  },
  {
   "cell_type": "code",
   "execution_count": 15,
   "id": "8a2c6da8-d73f-407e-b505-ac9d30552557",
   "metadata": {},
   "outputs": [],
   "source": [
    "# 将结果转换为DataFrame\n",
    "results_df = pd.DataFrame(results)"
   ]
  },
  {
   "cell_type": "code",
   "execution_count": 16,
   "id": "8c8697ce-780c-40b6-b188-1bc62031c85f",
   "metadata": {},
   "outputs": [],
   "source": [
    "# 将结果保存到与data_path相同的路径下\n",
    "output_file = os.path.join(data_path, 'discrete_LZC.xlsx')\n",
    "results_df.to_excel(output_file, index=False)"
   ]
  },
  {
   "cell_type": "code",
   "execution_count": 17,
   "id": "1e1ce57e-06da-47cc-bfd2-4bc3da80fa5e",
   "metadata": {},
   "outputs": [
    {
     "name": "stdout",
     "output_type": "stream",
     "text": [
      "Lempel-Ziv复杂度结果已保存到 F:\\EEGmicrostate\\microstate_2_20\\groupMicrostate\\EO\\MicorstateSeuqnce2group\\all\\discrete\\discrete_LZC.xlsx\n"
     ]
    }
   ],
   "source": [
    "print(f\"Lempel-Ziv复杂度结果已保存到 {output_file}\")"
   ]
  },
  {
   "cell_type": "code",
   "execution_count": null,
   "id": "cf3c1f1c-b3d0-40c2-9c7c-0834450f2d50",
   "metadata": {},
   "outputs": [],
   "source": []
  }
 ],
 "metadata": {
  "kernelspec": {
   "display_name": "Python 3 (ipykernel)",
   "language": "python",
   "name": "python3"
  },
  "language_info": {
   "codemirror_mode": {
    "name": "ipython",
    "version": 3
   },
   "file_extension": ".py",
   "mimetype": "text/x-python",
   "name": "python",
   "nbconvert_exporter": "python",
   "pygments_lexer": "ipython3",
   "version": "3.12.7"
  }
 },
 "nbformat": 4,
 "nbformat_minor": 5
}
