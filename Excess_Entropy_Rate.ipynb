{
 "cells": [
  {
   "cell_type": "code",
   "execution_count": null,
   "id": "6341aabe-3f54-4bab-9cdd-e4d421d35406",
   "metadata": {
    "scrolled": true
   },
   "outputs": [],
   "source": [
    "import numpy as np\n",
    "import os\n",
    "import pandas as pd"
   ]
  },
  {
   "cell_type": "code",
   "execution_count": null,
   "id": "2d68b3fc-af6b-4590-b951-4ef775454830",
   "metadata": {},
   "outputs": [],
   "source": [
    "# 读取微状态序列的函数\n",
    "# 定义一个函数，接受文件路径和可选的固定长度参数\n",
    "def read_microstate_sequence(file_path, fixed_length=None):\n",
    "    with open(file_path, 'r') as f:\n",
    "        sequence = np.loadtxt(f, dtype=int)\n",
    "        if fixed_length is not None:\n",
    "            sequence = sequence[:fixed_length]\n",
    "            if len(sequence) < fixed_length:\n",
    "                sequence = np.pad(sequence, (0, fixed_length - len(sequence)), 'constant')\n",
    "    return sequence"
   ]
  },
  {
   "cell_type": "code",
   "execution_count": null,
   "id": "0a4dc2c4-1cb4-4e66-89d0-5984cd9021aa",
   "metadata": {},
   "outputs": [],
   "source": [
    "# 计算熵的函数\n",
    "def H_k(x, ns, k):\n",
    "    counts = np.bincount(x[-k:], minlength=4)  # 计算最后k个状态的频率\n",
    "    probabilities = counts / float(k)  # 计算概率\n",
    "    entropy = -np.sum(probabilities[probabilities > 0] * np.log2(probabilities[probabilities > 0]))  # 计算熵\n",
    "    return entropy"
   ]
  },
  {
   "cell_type": "code",
   "execution_count": null,
   "id": "34a4ea26-b3d5-4e38-96dd-094ea33916e6",
   "metadata": {},
   "outputs": [],
   "source": [
    "# 计算熵率和过剩熵\n",
    "def excess_entropy_rate(x, ns, kmax):\n",
    "    h_ = np.zeros(kmax)  # 初始化熵数组\n",
    "    for k in range(kmax):\n",
    "        h_[k] = H_k(x, ns, k + 1)\n",
    "\n",
    "    ks = np.arange(1, kmax + 1)\n",
    "    print(f\"h_ values: {h_}\")  # 打印 h_ 数组\n",
    "    a, b = np.polyfit(ks, h_, 1)  # a = 熵率, b = 超额熵\n",
    "\n",
    "    # 确保熵率和过剩熵是非负的\n",
    "    entropy_rate = max(a, 0)\n",
    "    excess_entropy = max(b, 0)\n",
    "    return entropy_rate, excess_entropy"
   ]
  },
  {
   "cell_type": "code",
   "execution_count": null,
   "id": "b609522b-c3b6-482c-8e48-66d182b9c31f",
   "metadata": {},
   "outputs": [],
   "source": [
    "# 计算熵率和过剩熵\n",
    "def compute_entropy_rate_and_excess_entropy(directory, kmax=10, fixed_length=None):\n",
    "    results = {}\n",
    "    \n",
    "    for filename in os.listdir(directory):\n",
    "        if filename.endswith('.txt'):\n",
    "            file_path = os.path.join(directory, filename)\n",
    "            microstate_sequence = read_microstate_sequence(file_path, fixed_length)\n",
    "\n",
    "            ns = len(microstate_sequence)  # 计算微状态序列的数据点数量\n",
    "\n",
    "            # 检查数据点数量\n",
    "            if ns > kmax + 1:\n",
    "                try:\n",
    "                    entropy_rate, excess_entropy = excess_entropy_rate(microstate_sequence, ns, kmax)\n",
    "                    results[filename] = {\n",
    "                        'entropy_rate': entropy_rate,\n",
    "                        'excess_entropy': excess_entropy\n",
    "                    }\n",
    "                    print(f\"Processed {filename}: ns={ns}, Entropy Rate={entropy_rate}, Excess Entropy={excess_entropy}\")\n",
    "                except np.linalg.LinAlgError as e:\n",
    "                    print(f\"LinAlgError for {filename}: {e}\")\n",
    "                    continue\n",
    "            else:\n",
    "                print(f\"Warning: {filename} has insufficient data points for entropy calculation.\")\n",
    "    \n",
    "    return results"
   ]
  },
  {
   "cell_type": "code",
   "execution_count": null,
   "id": "6f17920b-14d2-4240-aa6c-7d88bfb1b7a5",
   "metadata": {},
   "outputs": [],
   "source": [
    "# 设置随机种子\n",
    "np.random.seed(123)\n",
    "\n",
    "# 示例使用\n",
    "directory = r'F:\\EEGmicrostate\\microstate_2_20\\groupMicrostate\\EO\\MicorstateSeuqnce2group\\all\\full'\n",
    "#directory = r'F:\\EEGmicrostate\\microstate_2_20\\groupMicrostate\\EO\\MicorstateSeuqnce2group\\all\\full'\n",
    "kmax = 6\n",
    "fixed_length = 30000"
   ]
  },
  {
   "cell_type": "code",
   "execution_count": null,
   "id": "c2103038-31cf-48be-a523-cbb28cfb7bd1",
   "metadata": {
    "scrolled": true
   },
   "outputs": [],
   "source": [
    "results = compute_entropy_rate_and_excess_entropy(directory, kmax, fixed_length)"
   ]
  },
  {
   "cell_type": "code",
   "execution_count": null,
   "id": "0fa6b821-1243-4c04-a095-b1790f6adf96",
   "metadata": {},
   "outputs": [],
   "source": [
    "if results:\n",
    "    for filename, metrics in results.items():\n",
    "        print(f\"File: {filename}, Entropy Rate: {metrics['entropy_rate']}, Excess Entropy: {metrics['excess_entropy']}\")\n",
    "else:\n",
    "    print(\"No results found.\")"
   ]
  },
  {
   "cell_type": "code",
   "execution_count": null,
   "id": "779eb8c4-d1fb-4a76-a470-844dba7d1135",
   "metadata": {},
   "outputs": [],
   "source": [
    "# 保存结果到 CSV 文件\n",
    "if results:\n",
    "    # 创建一个列表以存储结果\n",
    "    formatted_results = []\n",
    "    \n",
    "    # 格式化每个结果\n",
    "    for filename, metrics in results.items():\n",
    "        formatted_results.append({\n",
    "            'File': filename,\n",
    "            'Entropy Rate': metrics['entropy_rate'],\n",
    "            'Excess Entropy': metrics['excess_entropy']\n",
    "        })\n",
    "    \n",
    "    # 创建 DataFrame\n",
    "    df = pd.DataFrame(formatted_results)\n",
    "    # 保存为 CSV 文件\n",
    "    df.to_csv(os.path.join(directory, 'full_entropy_results_30000k6.csv'), index=False)\n",
    "\n",
    "    # 输出信息\n",
    "    for entry in formatted_results:\n",
    "        print(f\"File: {entry['File']}, Entropy Rate: {entry['Entropy Rate']}, Excess Entropy: {entry['Excess Entropy']}\")\n",
    "else:\n",
    "    print(\"No results found.\")"
   ]
  },
  {
   "cell_type": "code",
   "execution_count": null,
   "id": "c532cd2a-e593-45e7-86ef-84c52c64bdd1",
   "metadata": {},
   "outputs": [],
   "source": []
  }
 ],
 "metadata": {
  "kernelspec": {
   "display_name": "Python 3 (ipykernel)",
   "language": "python",
   "name": "python3"
  },
  "language_info": {
   "codemirror_mode": {
    "name": "ipython",
    "version": 3
   },
   "file_extension": ".py",
   "mimetype": "text/x-python",
   "name": "python",
   "nbconvert_exporter": "python",
   "pygments_lexer": "ipython3",
   "version": "3.12.7"
  }
 },
 "nbformat": 4,
 "nbformat_minor": 5
}
