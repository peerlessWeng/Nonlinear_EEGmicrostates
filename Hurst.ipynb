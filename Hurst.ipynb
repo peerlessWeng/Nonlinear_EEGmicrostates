{
 "cells": [
  {
   "cell_type": "code",
   "execution_count": 3,
   "id": "bf35c83c-808c-4b6e-8ed5-3ae1c8af0704",
   "metadata": {},
   "outputs": [],
   "source": [
    "import numpy as np\n",
    "import itertools\n",
    "from scipy.signal import detrend\n",
    "import os\n",
    "import pandas as pd"
   ]
  },
  {
   "cell_type": "code",
   "execution_count": 4,
   "id": "9956382d-2e86-4e38-bb2c-f4fd29eed61c",
   "metadata": {},
   "outputs": [],
   "source": [
    "def calculate_hurst_exponent(time_series, nvals):\n",
    "    N = len(time_series)\n",
    "    F = np.zeros(len(nvals), dtype=float)\n",
    "\n",
    "    for i, n in enumerate(nvals):\n",
    "        if n > N:\n",
    "            continue\n",
    "        segments = np.array_split(np.arange(N), np.arange(n, N+1, n))\n",
    "        rms_fluctuations = np.zeros(len(segments), dtype=float)\n",
    "\n",
    "        for j, segment in enumerate(segments):\n",
    "            segment_data = time_series[segment]\n",
    "            detrended_segment = detrend(segment_data)\n",
    "            rms_fluctuations[j] = np.sqrt(np.mean(detrended_segment**2))\n",
    "\n",
    "        F[i] = np.mean(rms_fluctuations)\n",
    "\n",
    "    coeffs = np.polyfit(np.log(nvals), np.log(F), 1)\n",
    "    hurst_exponent = coeffs[0]\n",
    "    return hurst_exponent"
   ]
  },
  {
   "cell_type": "code",
   "execution_count": 5,
   "id": "8721d50b-587b-4a3a-9ded-f44a0f21bff4",
   "metadata": {},
   "outputs": [],
   "source": [
    "def generate_partitions(Q):\n",
    "    if Q == 4:\n",
    "        partitions = [( (1, 2), (3, 4) ), ( (1, 3), (2, 4) ), ( (1, 4), (2, 3) )]\n",
    "    elif Q == 5:\n",
    "        partitions = [( (1, 2), (3, 4, 5) ), ( (1, 3), (2, 4, 5) ), ( (1, 4), (2, 3, 5) ),\n",
    "                      ( (1, 5), (2, 3, 4) ), ( (2, 3), (1, 4, 5) ), ( (2, 4), (1, 3, 5) ),\n",
    "                      ( (2, 5), (1, 3, 4) ), ( (3, 4), (1, 2, 5) ), ( (3, 5), (1, 2, 4) ),\n",
    "                      ( (4, 5), (1, 2, 3) )]\n",
    "    else:\n",
    "        raise ValueError(\"Only Q=4 or Q=5 is supported for generating partitions.\")\n",
    "    \n",
    "    return partitions"
   ]
  },
  {
   "cell_type": "code",
   "execution_count": 6,
   "id": "fd150b8e-4e5e-4d75-9023-6c8057608577",
   "metadata": {},
   "outputs": [],
   "source": [
    "def calculate_hurst_for_partitions(microstate_sequence, nvals, Q):\n",
    "    hurst_values = []\n",
    "    partitions = generate_partitions(Q)\n",
    "\n",
    "    for partition in partitions:\n",
    "        group1, group2 = partition\n",
    "        partitioned_sequence = np.where(np.isin(microstate_sequence, group1), 1, -1)\n",
    "        \n",
    "        # Calculate Hurst exponent for this partition\n",
    "        hurst = calculate_hurst_exponent(partitioned_sequence, nvals)\n",
    "        hurst_values.append(hurst)\n",
    "\n",
    "    # Calculate the average Hurst exponent across all partitions\n",
    "    average_hurst = np.mean(hurst_values)\n",
    "    return average_hurst"
   ]
  },
  {
   "cell_type": "code",
   "execution_count": 7,
   "id": "bfc233dd-808d-4c48-91ac-147881f433d6",
   "metadata": {},
   "outputs": [],
   "source": [
    "# 定义读取文件和计算Hurst指数的函数\n",
    "def calculate_hurst_for_subject(file_path, nvals, Q):\n",
    "    # 读取微状态序列\n",
    "    microstate_sequence = np.loadtxt(file_path)\n",
    "     # 提取前1000个数据点\n",
    "    microstate_sequence = microstate_sequence[:1976]\n",
    "    # 计算Hurst指数\n",
    "    hurst = calculate_hurst_for_partitions(microstate_sequence, nvals, Q)\n",
    "    return hurst"
   ]
  },
  {
   "cell_type": "code",
   "execution_count": 12,
   "id": "5f92b969-61c8-4f08-86b2-88fbdff625b6",
   "metadata": {},
   "outputs": [],
   "source": [
    "# 设置文件路径和参数\n",
    "file_path = r'F:\\EEGmicrostate\\microstate_2_20\\groupMicrostate\\EO\\MicorstateSeuqnce2group\\all\\full'\n",
    "nvals = np.logspace(np.log10(50), np.log10(3000), 100).astype(int)  # 时间尺度\n",
    "Q = 5  # 假设有5个微状态\n"
   ]
  },
  {
   "cell_type": "code",
   "execution_count": 13,
   "id": "faa9b61a-e136-4b18-b43a-c44693cb8158",
   "metadata": {},
   "outputs": [
    {
     "ename": "ValueError",
     "evalue": "cannot reshape array of size 0 into shape (0,newaxis)",
     "output_type": "error",
     "traceback": [
      "\u001b[1;31m---------------------------------------------------------------------------\u001b[0m",
      "\u001b[1;31mValueError\u001b[0m                                Traceback (most recent call last)",
      "Cell \u001b[1;32mIn[13], line 5\u001b[0m\n\u001b[0;32m      3\u001b[0m \u001b[38;5;28;01mif\u001b[39;00m file_name\u001b[38;5;241m.\u001b[39mendswith(\u001b[38;5;124m\"\u001b[39m\u001b[38;5;124m.txt\u001b[39m\u001b[38;5;124m\"\u001b[39m):\n\u001b[0;32m      4\u001b[0m     file_full_path \u001b[38;5;241m=\u001b[39m os\u001b[38;5;241m.\u001b[39mpath\u001b[38;5;241m.\u001b[39mjoin(file_path, file_name)\n\u001b[1;32m----> 5\u001b[0m     hurst \u001b[38;5;241m=\u001b[39m calculate_hurst_for_subject(file_full_path, nvals, Q)\n\u001b[0;32m      6\u001b[0m     \u001b[38;5;28mprint\u001b[39m(\u001b[38;5;124mf\u001b[39m\u001b[38;5;124m\"\u001b[39m\u001b[38;5;124mFile: \u001b[39m\u001b[38;5;132;01m{\u001b[39;00mfile_name\u001b[38;5;132;01m}\u001b[39;00m\u001b[38;5;124m, Hurst exponent: \u001b[39m\u001b[38;5;132;01m{\u001b[39;00mhurst\u001b[38;5;132;01m}\u001b[39;00m\u001b[38;5;124m\"\u001b[39m)\n",
      "Cell \u001b[1;32mIn[7], line 8\u001b[0m, in \u001b[0;36mcalculate_hurst_for_subject\u001b[1;34m(file_path, nvals, Q)\u001b[0m\n\u001b[0;32m      6\u001b[0m microstate_sequence \u001b[38;5;241m=\u001b[39m microstate_sequence[:\u001b[38;5;241m1976\u001b[39m]\n\u001b[0;32m      7\u001b[0m \u001b[38;5;66;03m# 计算Hurst指数\u001b[39;00m\n\u001b[1;32m----> 8\u001b[0m hurst \u001b[38;5;241m=\u001b[39m calculate_hurst_for_partitions(microstate_sequence, nvals, Q)\n\u001b[0;32m      9\u001b[0m \u001b[38;5;28;01mreturn\u001b[39;00m hurst\n",
      "Cell \u001b[1;32mIn[6], line 10\u001b[0m, in \u001b[0;36mcalculate_hurst_for_partitions\u001b[1;34m(microstate_sequence, nvals, Q)\u001b[0m\n\u001b[0;32m      7\u001b[0m     partitioned_sequence \u001b[38;5;241m=\u001b[39m np\u001b[38;5;241m.\u001b[39mwhere(np\u001b[38;5;241m.\u001b[39misin(microstate_sequence, group1), \u001b[38;5;241m1\u001b[39m, \u001b[38;5;241m-\u001b[39m\u001b[38;5;241m1\u001b[39m)\n\u001b[0;32m      9\u001b[0m     \u001b[38;5;66;03m# Calculate Hurst exponent for this partition\u001b[39;00m\n\u001b[1;32m---> 10\u001b[0m     hurst \u001b[38;5;241m=\u001b[39m calculate_hurst_exponent(partitioned_sequence, nvals)\n\u001b[0;32m     11\u001b[0m     hurst_values\u001b[38;5;241m.\u001b[39mappend(hurst)\n\u001b[0;32m     13\u001b[0m \u001b[38;5;66;03m# Calculate the average Hurst exponent across all partitions\u001b[39;00m\n",
      "Cell \u001b[1;32mIn[4], line 13\u001b[0m, in \u001b[0;36mcalculate_hurst_exponent\u001b[1;34m(time_series, nvals)\u001b[0m\n\u001b[0;32m     11\u001b[0m \u001b[38;5;28;01mfor\u001b[39;00m j, segment \u001b[38;5;129;01min\u001b[39;00m \u001b[38;5;28menumerate\u001b[39m(segments):\n\u001b[0;32m     12\u001b[0m     segment_data \u001b[38;5;241m=\u001b[39m time_series[segment]\n\u001b[1;32m---> 13\u001b[0m     detrended_segment \u001b[38;5;241m=\u001b[39m detrend(segment_data)\n\u001b[0;32m     14\u001b[0m     rms_fluctuations[j] \u001b[38;5;241m=\u001b[39m np\u001b[38;5;241m.\u001b[39msqrt(np\u001b[38;5;241m.\u001b[39mmean(detrended_segment\u001b[38;5;241m*\u001b[39m\u001b[38;5;241m*\u001b[39m\u001b[38;5;241m2\u001b[39m))\n\u001b[0;32m     16\u001b[0m F[i] \u001b[38;5;241m=\u001b[39m np\u001b[38;5;241m.\u001b[39mmean(rms_fluctuations)\n",
      "File \u001b[1;32m~\\.conda\\envs\\Jupter\\Lib\\site-packages\\scipy\\signal\\_signaltools.py:3614\u001b[0m, in \u001b[0;36mdetrend\u001b[1;34m(data, axis, type, bp, overwrite_data)\u001b[0m\n\u001b[0;32m   3612\u001b[0m newdata \u001b[38;5;241m=\u001b[39m np\u001b[38;5;241m.\u001b[39mmoveaxis(data, axis, \u001b[38;5;241m0\u001b[39m)\n\u001b[0;32m   3613\u001b[0m newdata_shape \u001b[38;5;241m=\u001b[39m newdata\u001b[38;5;241m.\u001b[39mshape\n\u001b[1;32m-> 3614\u001b[0m newdata \u001b[38;5;241m=\u001b[39m newdata\u001b[38;5;241m.\u001b[39mreshape(N, \u001b[38;5;241m-\u001b[39m\u001b[38;5;241m1\u001b[39m)\n\u001b[0;32m   3616\u001b[0m \u001b[38;5;28;01mif\u001b[39;00m \u001b[38;5;129;01mnot\u001b[39;00m overwrite_data:\n\u001b[0;32m   3617\u001b[0m     newdata \u001b[38;5;241m=\u001b[39m newdata\u001b[38;5;241m.\u001b[39mcopy()  \u001b[38;5;66;03m# make sure we have a copy\u001b[39;00m\n",
      "\u001b[1;31mValueError\u001b[0m: cannot reshape array of size 0 into shape (0,newaxis)"
     ]
    }
   ],
   "source": [
    "# 遍历文件夹中的所有文件\n",
    "for file_name in os.listdir(file_path):\n",
    "    if file_name.endswith(\".txt\"):\n",
    "        file_full_path = os.path.join(file_path, file_name)\n",
    "        hurst = calculate_hurst_for_subject(file_full_path, nvals, Q)\n",
    "        print(f\"File: {file_name}, Hurst exponent: {hurst}\")"
   ]
  },
  {
   "cell_type": "code",
   "execution_count": null,
   "id": "23c1646a-9136-4964-83ac-4380147f7d39",
   "metadata": {},
   "outputs": [],
   "source": []
  }
 ],
 "metadata": {
  "kernelspec": {
   "display_name": "Python 3 (ipykernel)",
   "language": "python",
   "name": "python3"
  },
  "language_info": {
   "codemirror_mode": {
    "name": "ipython",
    "version": 3
   },
   "file_extension": ".py",
   "mimetype": "text/x-python",
   "name": "python",
   "nbconvert_exporter": "python",
   "pygments_lexer": "ipython3",
   "version": "3.12.7"
  }
 },
 "nbformat": 4,
 "nbformat_minor": 5
}
